{
 "cells": [
  {
   "cell_type": "code",
   "execution_count": null,
   "id": "2f25ea11-8fa5-481a-a7de-d6d00f3601a5",
   "metadata": {},
   "outputs": [],
   "source": []
  }
 ],
 "metadata": {
  "kernelspec": {
   "display_name": "",
   "name": ""
  },
  "language_info": {
   "name": ""
  }
 },
 "nbformat": 4,
 "nbformat_minor": 5
}
